{
 "cells": [
  {
   "cell_type": "markdown",
   "id": "4868a93e-8a6e-435c-8c6f-c68f9fd55b1d",
   "metadata": {},
   "source": [
    "## KNN ASSIGNMENT 3"
   ]
  },
  {
   "cell_type": "markdown",
   "id": "07b35f28-036b-4ffe-8b51-00338c25b8c3",
   "metadata": {},
   "source": [
    "Q1. Write a Python code to implement the KNN classifier algorithm on load_iris dataset in\n",
    "sklearn.datasets."
   ]
  },
  {
   "cell_type": "code",
   "execution_count": 1,
   "id": "f0feb616-94a8-4df7-be4c-107300b56f67",
   "metadata": {},
   "outputs": [
    {
     "name": "stdout",
     "output_type": "stream",
     "text": [
      "Accuracy: 1.0\n"
     ]
    }
   ],
   "source": [
    "from sklearn.datasets import load_iris\n",
    "from sklearn.model_selection import train_test_split\n",
    "from sklearn.neighbors import KNeighborsClassifier\n",
    "from sklearn.metrics import accuracy_score\n",
    "\n",
    "# Load the Iris dataset\n",
    "iris = load_iris()\n",
    "X, y = iris.data, iris.target\n",
    "\n",
    "# Split the dataset into training and testing sets\n",
    "X_train, X_test, y_train, y_test = train_test_split(X, y, test_size=0.3, random_state=42)\n",
    "\n",
    "# Initialize the KNN classifier with k=3 (you can change k as needed)\n",
    "knn = KNeighborsClassifier(n_neighbors=3)\n",
    "\n",
    "# Train the classifier on the training data\n",
    "knn.fit(X_train, y_train)\n",
    "\n",
    "# Predict the labels for the test set\n",
    "y_pred = knn.predict(X_test)\n",
    "\n",
    "# Calculate the accuracy of the classifier\n",
    "accuracy = accuracy_score(y_test, y_pred)\n",
    "print(\"Accuracy:\", accuracy)\n"
   ]
  },
  {
   "cell_type": "markdown",
   "id": "e9f1e355-1225-4a0f-a017-08991bb0ec16",
   "metadata": {},
   "source": [
    "This code loads the Iris dataset, splits it into training and testing sets, initializes the KNN classifier with n_neighbors=3, trains the classifier on the training data, and then predicts the labels for the test set. Finally, it calculates and prints the accuracy of the classifier. You can adjust the value of n_neighbors to change the number of neighbors used in the KNN algorithm."
   ]
  },
  {
   "cell_type": "code",
   "execution_count": null,
   "id": "c1f2451f-524a-4336-b735-4c4ae7080b6a",
   "metadata": {},
   "outputs": [],
   "source": []
  },
  {
   "cell_type": "markdown",
   "id": "5954b167-d071-4257-878d-86de6ea71050",
   "metadata": {},
   "source": [
    "Q2. Write a Python code to implement the KNN regressor algorithm on load_boston dataset in\n",
    "sklearn.datasets."
   ]
  },
  {
   "cell_type": "markdown",
   "id": "fb021313-fe38-4386-85e8-a6473219d816",
   "metadata": {},
   "source": [
    "`load_boston` has been removed from scikit-learn since version 1.2.\n",
    "\n",
    "The Boston housing prices dataset has an ethical problem: as\n",
    "investigated in [1], the authors of this dataset engineered a\n",
    "non-invertible variable \"B\" assuming that racial self-segregation had a\n",
    "positive impact on house prices [2]. Furthermore the goal of the\n",
    "research that led to the creation of this dataset was to study the\n",
    "impact of air quality but it did not give adequate demonstration of the\n",
    "validity of this assumption.\n",
    "\n",
    "The scikit-learn maintainers therefore strongly discourage the use of\n",
    "this dataset unless the purpose of the code is to study and educate\n",
    "about ethical issues in data science and machine learning."
   ]
  },
  {
   "cell_type": "markdown",
   "id": "2a2bb6f0-687e-4dcf-8ab2-8f8c7b5b8a24",
   "metadata": {},
   "source": [
    "Q3. Write a Python code snippet to find the optimal value of K for the KNN classifier algorithm using\n",
    "cross-validation on load_iris dataset in sklearn.datasets."
   ]
  },
  {
   "cell_type": "code",
   "execution_count": null,
   "id": "e3a37613-a79d-46ad-aa99-c820b06d3bfa",
   "metadata": {},
   "outputs": [],
   "source": []
  },
  {
   "cell_type": "markdown",
   "id": "7778364e-2ea2-4c8a-87d0-1184cb2adea6",
   "metadata": {},
   "source": [
    "Q3. Write a Python code snippet to find the optimal value of K for the KNN classifier algorithm using\n",
    "cross-validation on load_iris dataset in sklearn.datasets."
   ]
  },
  {
   "cell_type": "markdown",
   "id": "4edbacb7-15b1-40fd-bcbc-5bef8d0df545",
   "metadata": {},
   "source": [
    "To find the optimal value of K for the KNN classifier algorithm using cross-validation on the load_iris dataset from sklearn.datasets, you can use a loop to iterate over different values of K and perform cross-validation to evaluate the classifier's performance. "
   ]
  },
  {
   "cell_type": "code",
   "execution_count": 6,
   "id": "19a286d7-c081-4f7e-bcbb-bf88f72403cd",
   "metadata": {},
   "outputs": [
    {
     "name": "stdout",
     "output_type": "stream",
     "text": [
      "Optimal K: 6\n",
      "Mean Accuracy: 0.9800 (±0.0163)\n"
     ]
    }
   ],
   "source": [
    "from sklearn.datasets import load_iris\n",
    "from sklearn.model_selection import cross_val_score\n",
    "from sklearn.neighbors import KNeighborsClassifier\n",
    "\n",
    "# Load the Iris dataset\n",
    "iris = load_iris()\n",
    "X, y = iris.data, iris.target\n",
    "\n",
    "# Define the range of K values to try\n",
    "k_values = list(range(1, 31))\n",
    "\n",
    "# Initialize lists to store mean accuracies and standard deviations for each K\n",
    "mean_accuracies = []\n",
    "std_accuracies = []\n",
    "\n",
    "# Perform cross-validation for each value of K\n",
    "for k in k_values:\n",
    "    knn_classifier = KNeighborsClassifier(n_neighbors=k)\n",
    "    accuracies = cross_val_score(knn_classifier, X, y, cv=5)\n",
    "    mean_accuracies.append(accuracies.mean())\n",
    "    std_accuracies.append(accuracies.std())\n",
    "\n",
    "# Find the optimal K with the highest mean accuracy\n",
    "optimal_k = k_values[mean_accuracies.index(max(mean_accuracies))]\n",
    "optimal_mean_accuracy = max(mean_accuracies)\n",
    "optimal_std_accuracy = std_accuracies[mean_accuracies.index(max(mean_accuracies))]\n",
    "\n",
    "print(f\"Optimal K: {optimal_k}\")\n",
    "print(f\"Mean Accuracy: {optimal_mean_accuracy:.4f} (±{optimal_std_accuracy:.4f})\")\n"
   ]
  },
  {
   "cell_type": "markdown",
   "id": "8902d55c-83c5-4602-ad6e-4e006adadc1d",
   "metadata": {},
   "source": [
    "In this code, we use 5-fold cross-validation to evaluate the classifier's performance for each value of K in the range of 1 to 30 (you can adjust the range as needed). We then find the K value that yields the highest mean accuracy and print the optimal K along with the mean accuracy and its standard deviation.\n",
    "\n",
    "Note that cross-validation helps to get a more robust estimate of the model's performance and prevent overfitting or underfitting. It is crucial when tuning hyperparameters like K in KNN."
   ]
  },
  {
   "cell_type": "code",
   "execution_count": null,
   "id": "b8049e78-0a50-4a4a-b4e6-190c9576b686",
   "metadata": {},
   "outputs": [],
   "source": []
  },
  {
   "cell_type": "markdown",
   "id": "7af7acf7-27c0-4485-9068-79ff4d066cee",
   "metadata": {},
   "source": [
    "Q4. Implement the KNN regressor algorithm with feature scaling on load_boston dataset in\n",
    "sklearn.datasets."
   ]
  },
  {
   "cell_type": "markdown",
   "id": "e6a7c04f-c005-467b-8f46-ae6f45bcaec6",
   "metadata": {},
   "source": [
    "`load_boston` has been removed from scikit-learn since version 1.2.\n",
    "\n",
    "The Boston housing prices dataset has an ethical problem: as\n",
    "investigated in [1], the authors of this dataset engineered a\n",
    "non-invertible variable \"B\" assuming that racial self-segregation had a\n",
    "positive impact on house prices [2]. Furthermore the goal of the\n",
    "research that led to the creation of this dataset was to study the\n",
    "impact of air quality but it did not give adequate demonstration of the\n",
    "validity of this assumption.\n",
    "\n",
    "The scikit-learn maintainers therefore strongly discourage the use of\n",
    "this dataset unless the purpose of the code is to study and educate\n",
    "about ethical issues in data science and machine learning."
   ]
  },
  {
   "cell_type": "code",
   "execution_count": null,
   "id": "6daa2396-d388-4443-8dbe-f410cc447bb0",
   "metadata": {},
   "outputs": [],
   "source": []
  },
  {
   "cell_type": "markdown",
   "id": "71f5c8e9-9ac4-43e7-9653-28c717fd307d",
   "metadata": {},
   "source": [
    "Q5. Write a Python code snippet to implement the KNN classifier algorithm with weighted voting on\n",
    "load_iris dataset in sklearn.datasets."
   ]
  },
  {
   "cell_type": "markdown",
   "id": "6b33d5d3-6c7c-4879-a4e3-4a9f2ef62921",
   "metadata": {},
   "source": [
    "To implement the K-Nearest Neighbors (KNN) classifier algorithm with weighted voting on the load_iris dataset from sklearn.datasets, we can modify the standard KNN classifier by using the weights parameter. Setting weights='distance' in the KNeighborsClassifier class will give more weight to closer neighbors when making predictions. Closer neighbors will have a higher influence on the decision, and their contributions will be inversely proportional to their distance."
   ]
  },
  {
   "cell_type": "code",
   "execution_count": 8,
   "id": "28f1fd0d-a4a2-4f0c-bd79-c2b4ce47c041",
   "metadata": {},
   "outputs": [
    {
     "name": "stdout",
     "output_type": "stream",
     "text": [
      "Accuracy: 1.0\n"
     ]
    }
   ],
   "source": [
    "from sklearn.datasets import load_iris\n",
    "from sklearn.model_selection import train_test_split\n",
    "from sklearn.neighbors import KNeighborsClassifier\n",
    "from sklearn.metrics import accuracy_score\n",
    "\n",
    "# Load the Iris dataset\n",
    "iris = load_iris()\n",
    "X, y = iris.data, iris.target\n",
    "\n",
    "# Split the dataset into training and testing sets\n",
    "X_train, X_test, y_train, y_test = train_test_split(X, y, test_size=0.3, random_state=42)\n",
    "\n",
    "# Initialize the KNN classifier with weighted voting using 'distance'\n",
    "knn_classifier = KNeighborsClassifier(n_neighbors=3, weights='distance')\n",
    "\n",
    "# Train the classifier on the training data\n",
    "knn_classifier.fit(X_train, y_train)\n",
    "\n",
    "# Predict the labels for the test set\n",
    "y_pred = knn_classifier.predict(X_test)\n",
    "\n",
    "# Calculate the accuracy of the classifier\n",
    "accuracy = accuracy_score(y_test, y_pred)\n",
    "print(\"Accuracy:\", accuracy)\n"
   ]
  },
  {
   "cell_type": "markdown",
   "id": "e5bad109-f326-4652-bb78-5c98e51b9cbf",
   "metadata": {},
   "source": [
    "In this code, we initialize the KNN classifier with weights='distance', which means that the voting weight of each neighbor will be determined by the inverse of its distance to the query point. This way, closer neighbors will have a more substantial influence on the decision-making process during the classification.\n",
    "\n",
    "You can adjust the value of n_neighbors as needed for the number of neighbors to consider in the KNN algorithm."
   ]
  },
  {
   "cell_type": "code",
   "execution_count": null,
   "id": "82e6996d-c1ab-45e0-afbf-7b57c078bd51",
   "metadata": {},
   "outputs": [],
   "source": []
  },
  {
   "cell_type": "markdown",
   "id": "acd659df-8094-4256-a053-8e84a3200adb",
   "metadata": {},
   "source": [
    "Q6. Implement a function to standardise the features before applying KNN classifier."
   ]
  },
  {
   "cell_type": "markdown",
   "id": "5c9f968c-89c3-4d02-8295-6a2c706beddd",
   "metadata": {},
   "source": [
    "To implement a function for standardizing the features before applying the K-Nearest Neighbors (KNN) classifier, we can use the StandardScaler from sklearn.preprocessing. The StandardScaler standardizes features by removing the mean and scaling to unit variance, making them have a mean of 0 and a standard deviation of 1. This ensures that all features contribute equally to the distance calculations in the KNN algorithm. "
   ]
  },
  {
   "cell_type": "code",
   "execution_count": 12,
   "id": "78b8cce1-51f4-41cc-b8ab-8951396b2545",
   "metadata": {},
   "outputs": [],
   "source": [
    "from sklearn.preprocessing import StandardScaler\n",
    "\n",
    "def standardize_features(X_train, X_test):\n",
    "    \"\"\"\n",
    "    Standardize the features of the training and testing sets.\n",
    "\n",
    "    Parameters:\n",
    "        X_train (numpy array or pandas DataFrame): Training features.\n",
    "        X_test (numpy array or pandas DataFrame): Testing features.\n",
    "\n",
    "    Returns:\n",
    "        X_train_std (numpy array): Standardized training features.\n",
    "        X_test_std (numpy array): Standardized testing features.\n",
    "    \"\"\"\n",
    "    # Initialize the StandardScaler\n",
    "    scaler = StandardScaler()\n",
    "\n",
    "    # Fit the scaler on the training data and transform it\n",
    "    X_train_std = scaler.fit_transform(X_train)\n",
    "\n",
    "    # Transform the testing data using the same scaler\n",
    "    X_test_std = scaler.transform(X_test)\n",
    "\n",
    "    return X_train_std, X_test_std\n"
   ]
  },
  {
   "cell_type": "code",
   "execution_count": 13,
   "id": "4d9d51da-9f2e-494d-aa59-98846438f4b5",
   "metadata": {},
   "outputs": [
    {
     "name": "stdout",
     "output_type": "stream",
     "text": [
      "Accuracy: 1.0\n"
     ]
    }
   ],
   "source": [
    "from sklearn.datasets import load_iris\n",
    "from sklearn.model_selection import train_test_split\n",
    "from sklearn.neighbors import KNeighborsClassifier\n",
    "from sklearn.metrics import accuracy_score\n",
    "\n",
    "# Load the Iris dataset\n",
    "iris = load_iris()\n",
    "X, y = iris.data, iris.target\n",
    "\n",
    "# Split the dataset into training and testing sets\n",
    "X_train, X_test, y_train, y_test = train_test_split(X, y, test_size=0.3, random_state=42)\n",
    "\n",
    "# Standardize the features using the custom function\n",
    "X_train_std, X_test_std = standardize_features(X_train, X_test)\n",
    "\n",
    "# Initialize the KNN classifier\n",
    "knn_classifier = KNeighborsClassifier(n_neighbors=3)\n",
    "\n",
    "# Train the classifier on the standardized training data\n",
    "knn_classifier.fit(X_train_std, y_train)\n",
    "\n",
    "# Predict the labels for the standardized test set\n",
    "y_pred = knn_classifier.predict(X_test_std)\n",
    "\n",
    "# Calculate the accuracy of the classifier\n",
    "accuracy = accuracy_score(y_test, y_pred)\n",
    "print(\"Accuracy:\", accuracy)\n"
   ]
  },
  {
   "cell_type": "markdown",
   "id": "3d6bf390-6265-479d-a4f8-7059e1068eb2",
   "metadata": {},
   "source": [
    "By using the standardize_features function, you ensure that the features are standardized for both the training and testing sets, which is crucial for the KNN algorithm to work effectively."
   ]
  },
  {
   "cell_type": "code",
   "execution_count": null,
   "id": "b58f09c8-1541-412b-8357-df26b5e5b4df",
   "metadata": {},
   "outputs": [],
   "source": []
  },
  {
   "cell_type": "markdown",
   "id": "f2e635c4-ac4d-4217-9877-7d914b1150db",
   "metadata": {},
   "source": [
    "Q7. Write a Python function to calculate the euclidean distance between two points."
   ]
  },
  {
   "cell_type": "code",
   "execution_count": 14,
   "id": "b1a6c3ef-d654-40b3-a1b3-a6f4329fca15",
   "metadata": {},
   "outputs": [],
   "source": [
    "import numpy as np\n",
    "\n",
    "def euclidean_distance(point1, point2):\n",
    "    \"\"\"\n",
    "    Calculate the Euclidean distance between two points in a multi-dimensional space.\n",
    "\n",
    "    Parameters:\n",
    "        point1 (list or numpy array): The coordinates of the first point.\n",
    "        point2 (list or numpy array): The coordinates of the second point.\n",
    "\n",
    "    Returns:\n",
    "        float: The Euclidean distance between the two points.\n",
    "    \"\"\"\n",
    "    # Convert the points to numpy arrays for vectorized operations\n",
    "    point1 = np.array(point1)\n",
    "    point2 = np.array(point2)\n",
    "\n",
    "    # Calculate the squared differences between the coordinates\n",
    "    squared_diff = np.sum((point1 - point2) ** 2)\n",
    "\n",
    "    # Take the square root to get the Euclidean distance\n",
    "    euclidean_dist = np.sqrt(squared_diff)\n",
    "\n",
    "    return euclidean_dist\n"
   ]
  },
  {
   "cell_type": "code",
   "execution_count": 15,
   "id": "1b7140e4-b709-47e1-a7a1-d239ac2007f6",
   "metadata": {},
   "outputs": [
    {
     "name": "stdout",
     "output_type": "stream",
     "text": [
      "Euclidean distance: 5.196152422706632\n"
     ]
    }
   ],
   "source": [
    "point1 = [1, 2, 3]\n",
    "point2 = [4, 5, 6]\n",
    "\n",
    "distance = euclidean_distance(point1, point2)\n",
    "print(\"Euclidean distance:\", distance)\n"
   ]
  },
  {
   "cell_type": "markdown",
   "id": "c6b5c884-d522-4695-80e0-4934451044fa",
   "metadata": {},
   "source": [
    "The function takes two points as input (either lists or numpy arrays) and calculates the Euclidean distance between them by computing the squared differences between their coordinates and then taking the square root of the sum of squared differences."
   ]
  },
  {
   "cell_type": "code",
   "execution_count": null,
   "id": "817bc0c3-ca4d-41ef-9bf3-6681c3f9cc27",
   "metadata": {},
   "outputs": [],
   "source": []
  },
  {
   "cell_type": "markdown",
   "id": "9c9a7c65-04bc-4503-b6c6-39e7f4a70dac",
   "metadata": {},
   "source": [
    "Q8. Write a Python function to calculate the manhattan distance between two points."
   ]
  },
  {
   "cell_type": "code",
   "execution_count": 16,
   "id": "7cff4cae-2977-4963-8dae-0eb557a6f00d",
   "metadata": {},
   "outputs": [],
   "source": [
    "import numpy as np\n",
    "\n",
    "def manhattan_distance(point1, point2):\n",
    "    \"\"\"\n",
    "    Calculate the Manhattan distance between two points in a multi-dimensional space.\n",
    "\n",
    "    Parameters:\n",
    "        point1 (list or numpy array): The coordinates of the first point.\n",
    "        point2 (list or numpy array): The coordinates of the second point.\n",
    "\n",
    "    Returns:\n",
    "        float: The Manhattan distance between the two points.\n",
    "    \"\"\"\n",
    "    # Convert the points to numpy arrays for vectorized operations\n",
    "    point1 = np.array(point1)\n",
    "    point2 = np.array(point2)\n",
    "\n",
    "    # Calculate the absolute differences between the coordinates\n",
    "    absolute_diff = np.abs(point1 - point2)\n",
    "\n",
    "    # Sum the absolute differences to get the Manhattan distance\n",
    "    manhattan_dist = np.sum(absolute_diff)\n",
    "\n",
    "    return manhattan_dist\n"
   ]
  },
  {
   "cell_type": "code",
   "execution_count": 17,
   "id": "68f1d301-9e57-4969-866d-4e8856b253bf",
   "metadata": {},
   "outputs": [
    {
     "name": "stdout",
     "output_type": "stream",
     "text": [
      "Manhattan distance: 9\n"
     ]
    }
   ],
   "source": [
    "point1 = [1, 2, 3]\n",
    "point2 = [4, 5, 6]\n",
    "\n",
    "distance = manhattan_distance(point1, point2)\n",
    "print(\"Manhattan distance:\", distance)\n"
   ]
  },
  {
   "cell_type": "markdown",
   "id": "3cc0cf41-66e7-4710-a66b-80ac788442de",
   "metadata": {},
   "source": [
    "The function takes two points as input (either lists or numpy arrays) and calculates the Manhattan distance between them by computing the absolute differences between their coordinates and then summing up these absolute differences."
   ]
  },
  {
   "cell_type": "code",
   "execution_count": null,
   "id": "454b9a6a-12aa-45d5-aca3-442b2bf13b73",
   "metadata": {},
   "outputs": [],
   "source": []
  }
 ],
 "metadata": {
  "kernelspec": {
   "display_name": "Python 3 (ipykernel)",
   "language": "python",
   "name": "python3"
  },
  "language_info": {
   "codemirror_mode": {
    "name": "ipython",
    "version": 3
   },
   "file_extension": ".py",
   "mimetype": "text/x-python",
   "name": "python",
   "nbconvert_exporter": "python",
   "pygments_lexer": "ipython3",
   "version": "3.10.8"
  }
 },
 "nbformat": 4,
 "nbformat_minor": 5
}
